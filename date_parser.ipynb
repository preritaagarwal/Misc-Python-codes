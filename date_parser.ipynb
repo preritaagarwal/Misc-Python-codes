{
 "cells": [
  {
   "cell_type": "code",
   "execution_count": null,
   "metadata": {},
   "outputs": [],
   "source": [
    "def dateparse(x):\n",
    "    return pd.datetime.strptime(x, '%Y %m %d %H %M')\n",
    "\n",
    "df = pd.read_csv(StringIO(csv), skipinitialspace=True,\n",
    "                 parse_dates={'time':['Year','Month','Day','Hour', 'Minute']},\n",
    "                 index_col='time', date_parser=dateparse)"
   ]
  }
 ],
 "metadata": {
  "kernelspec": {
   "display_name": "Python 3",
   "language": "python",
   "name": "python3"
  },
  "language_info": {
   "codemirror_mode": {
    "name": "ipython",
    "version": 3
   },
   "file_extension": ".py",
   "mimetype": "text/x-python",
   "name": "python",
   "nbconvert_exporter": "python",
   "pygments_lexer": "ipython3",
   "version": "3.7.3"
  }
 },
 "nbformat": 4,
 "nbformat_minor": 2
}
